{
 "cells": [
  {
   "cell_type": "markdown",
   "id": "c4d944fa-21a4-4888-900a-d17fd8b05916",
   "metadata": {},
   "source": [
    "### **Task 2: Predicting Customer Buying Behavior**  \n",
    "\n",
    "**Objective**: Build a predictive model to understand and analyze the factors influencing customer booking behavior.  \n",
    "\n",
    "This task involves leveraging machine learning techniques to create a classification model for predicting customer buying behavior. The process includes:  \n",
    "- **Exploratory Data Analysis (EDA)**: Analyzing the dataset to understand its structure, statistical properties, and uncover meaningful patterns.  \n",
    "- **Data Preparation**: Applying feature engineering techniques to prepare the dataset for modeling.  \n",
    "- **Model Building**: Developing a classification model using machine learning libraries to predict whether a customer is likely to book a flight.  \n",
    "- **Evaluation and Insights**: Evaluating model performance and extracting insights to understand customer behavior better.  "
   ]
  },
  {
   "cell_type": "code",
   "execution_count": 1,
   "id": "18d1f907",
   "metadata": {},
   "outputs": [],
   "source": [
    "import pandas as pd \n",
    "import numpy as np\n",
    "import matplotlib.pyplot as plt\n",
    "import seaborn as sns\n",
    "%matplotlib inline"
   ]
  },
  {
   "cell_type": "code",
   "execution_count": 2,
   "id": "31a4c235",
   "metadata": {},
   "outputs": [],
   "source": [
    "import warnings\n",
    "warnings.filterwarnings('ignore')"
   ]
  },
  {
   "cell_type": "code",
   "execution_count": 3,
   "id": "44d7ff19",
   "metadata": {},
   "outputs": [],
   "source": [
    "data = 'customer_booking.csv'"
   ]
  },
  {
   "cell_type": "code",
   "execution_count": 4,
   "id": "81f83b1f",
   "metadata": {},
   "outputs": [
    {
     "name": "stdout",
     "output_type": "stream",
     "text": [
      "{'encoding': 'ISO-8859-1', 'confidence': 0.73, 'language': ''}\n"
     ]
    }
   ],
   "source": [
    "import chardet\n",
    "\n",
    "with open('customer_booking.csv','rb') as rawdata:\n",
    "    result = chardet.detect(rawdata.read(100000))\n",
    "    \n",
    "print(result)"
   ]
  },
  {
   "cell_type": "code",
   "execution_count": 5,
   "id": "89438596",
   "metadata": {},
   "outputs": [],
   "source": [
    "df = pd.read_csv(\"customer_booking.csv\", encoding= 'ISO-8859-1')"
   ]
  },
  {
   "cell_type": "code",
   "execution_count": 6,
   "id": "a28c5b67",
   "metadata": {},
   "outputs": [
    {
     "data": {
      "text/html": [
       "<div>\n",
       "<style scoped>\n",
       "    .dataframe tbody tr th:only-of-type {\n",
       "        vertical-align: middle;\n",
       "    }\n",
       "\n",
       "    .dataframe tbody tr th {\n",
       "        vertical-align: top;\n",
       "    }\n",
       "\n",
       "    .dataframe thead th {\n",
       "        text-align: right;\n",
       "    }\n",
       "</style>\n",
       "<table border=\"1\" class=\"dataframe\">\n",
       "  <thead>\n",
       "    <tr style=\"text-align: right;\">\n",
       "      <th></th>\n",
       "      <th>num_passengers</th>\n",
       "      <th>sales_channel</th>\n",
       "      <th>trip_type</th>\n",
       "      <th>purchase_lead</th>\n",
       "      <th>length_of_stay</th>\n",
       "      <th>flight_hour</th>\n",
       "      <th>flight_day</th>\n",
       "      <th>route</th>\n",
       "      <th>booking_origin</th>\n",
       "      <th>wants_extra_baggage</th>\n",
       "      <th>wants_preferred_seat</th>\n",
       "      <th>wants_in_flight_meals</th>\n",
       "      <th>flight_duration</th>\n",
       "      <th>booking_complete</th>\n",
       "    </tr>\n",
       "  </thead>\n",
       "  <tbody>\n",
       "    <tr>\n",
       "      <th>0</th>\n",
       "      <td>2</td>\n",
       "      <td>Internet</td>\n",
       "      <td>RoundTrip</td>\n",
       "      <td>262</td>\n",
       "      <td>19</td>\n",
       "      <td>7</td>\n",
       "      <td>Sat</td>\n",
       "      <td>AKLDEL</td>\n",
       "      <td>New Zealand</td>\n",
       "      <td>1</td>\n",
       "      <td>0</td>\n",
       "      <td>0</td>\n",
       "      <td>5.52</td>\n",
       "      <td>0</td>\n",
       "    </tr>\n",
       "    <tr>\n",
       "      <th>1</th>\n",
       "      <td>1</td>\n",
       "      <td>Internet</td>\n",
       "      <td>RoundTrip</td>\n",
       "      <td>112</td>\n",
       "      <td>20</td>\n",
       "      <td>3</td>\n",
       "      <td>Sat</td>\n",
       "      <td>AKLDEL</td>\n",
       "      <td>New Zealand</td>\n",
       "      <td>0</td>\n",
       "      <td>0</td>\n",
       "      <td>0</td>\n",
       "      <td>5.52</td>\n",
       "      <td>0</td>\n",
       "    </tr>\n",
       "    <tr>\n",
       "      <th>2</th>\n",
       "      <td>2</td>\n",
       "      <td>Internet</td>\n",
       "      <td>RoundTrip</td>\n",
       "      <td>243</td>\n",
       "      <td>22</td>\n",
       "      <td>17</td>\n",
       "      <td>Wed</td>\n",
       "      <td>AKLDEL</td>\n",
       "      <td>India</td>\n",
       "      <td>1</td>\n",
       "      <td>1</td>\n",
       "      <td>0</td>\n",
       "      <td>5.52</td>\n",
       "      <td>0</td>\n",
       "    </tr>\n",
       "    <tr>\n",
       "      <th>3</th>\n",
       "      <td>1</td>\n",
       "      <td>Internet</td>\n",
       "      <td>RoundTrip</td>\n",
       "      <td>96</td>\n",
       "      <td>31</td>\n",
       "      <td>4</td>\n",
       "      <td>Sat</td>\n",
       "      <td>AKLDEL</td>\n",
       "      <td>New Zealand</td>\n",
       "      <td>0</td>\n",
       "      <td>0</td>\n",
       "      <td>1</td>\n",
       "      <td>5.52</td>\n",
       "      <td>0</td>\n",
       "    </tr>\n",
       "    <tr>\n",
       "      <th>4</th>\n",
       "      <td>2</td>\n",
       "      <td>Internet</td>\n",
       "      <td>RoundTrip</td>\n",
       "      <td>68</td>\n",
       "      <td>22</td>\n",
       "      <td>15</td>\n",
       "      <td>Wed</td>\n",
       "      <td>AKLDEL</td>\n",
       "      <td>India</td>\n",
       "      <td>1</td>\n",
       "      <td>0</td>\n",
       "      <td>1</td>\n",
       "      <td>5.52</td>\n",
       "      <td>0</td>\n",
       "    </tr>\n",
       "    <tr>\n",
       "      <th>...</th>\n",
       "      <td>...</td>\n",
       "      <td>...</td>\n",
       "      <td>...</td>\n",
       "      <td>...</td>\n",
       "      <td>...</td>\n",
       "      <td>...</td>\n",
       "      <td>...</td>\n",
       "      <td>...</td>\n",
       "      <td>...</td>\n",
       "      <td>...</td>\n",
       "      <td>...</td>\n",
       "      <td>...</td>\n",
       "      <td>...</td>\n",
       "      <td>...</td>\n",
       "    </tr>\n",
       "    <tr>\n",
       "      <th>49995</th>\n",
       "      <td>2</td>\n",
       "      <td>Internet</td>\n",
       "      <td>RoundTrip</td>\n",
       "      <td>27</td>\n",
       "      <td>6</td>\n",
       "      <td>9</td>\n",
       "      <td>Sat</td>\n",
       "      <td>PERPNH</td>\n",
       "      <td>Australia</td>\n",
       "      <td>1</td>\n",
       "      <td>0</td>\n",
       "      <td>1</td>\n",
       "      <td>5.62</td>\n",
       "      <td>0</td>\n",
       "    </tr>\n",
       "    <tr>\n",
       "      <th>49996</th>\n",
       "      <td>1</td>\n",
       "      <td>Internet</td>\n",
       "      <td>RoundTrip</td>\n",
       "      <td>111</td>\n",
       "      <td>6</td>\n",
       "      <td>4</td>\n",
       "      <td>Sun</td>\n",
       "      <td>PERPNH</td>\n",
       "      <td>Australia</td>\n",
       "      <td>0</td>\n",
       "      <td>0</td>\n",
       "      <td>0</td>\n",
       "      <td>5.62</td>\n",
       "      <td>0</td>\n",
       "    </tr>\n",
       "    <tr>\n",
       "      <th>49997</th>\n",
       "      <td>1</td>\n",
       "      <td>Internet</td>\n",
       "      <td>RoundTrip</td>\n",
       "      <td>24</td>\n",
       "      <td>6</td>\n",
       "      <td>22</td>\n",
       "      <td>Sat</td>\n",
       "      <td>PERPNH</td>\n",
       "      <td>Australia</td>\n",
       "      <td>0</td>\n",
       "      <td>0</td>\n",
       "      <td>1</td>\n",
       "      <td>5.62</td>\n",
       "      <td>0</td>\n",
       "    </tr>\n",
       "    <tr>\n",
       "      <th>49998</th>\n",
       "      <td>1</td>\n",
       "      <td>Internet</td>\n",
       "      <td>RoundTrip</td>\n",
       "      <td>15</td>\n",
       "      <td>6</td>\n",
       "      <td>11</td>\n",
       "      <td>Mon</td>\n",
       "      <td>PERPNH</td>\n",
       "      <td>Australia</td>\n",
       "      <td>1</td>\n",
       "      <td>0</td>\n",
       "      <td>1</td>\n",
       "      <td>5.62</td>\n",
       "      <td>0</td>\n",
       "    </tr>\n",
       "    <tr>\n",
       "      <th>49999</th>\n",
       "      <td>1</td>\n",
       "      <td>Internet</td>\n",
       "      <td>RoundTrip</td>\n",
       "      <td>19</td>\n",
       "      <td>6</td>\n",
       "      <td>10</td>\n",
       "      <td>Thu</td>\n",
       "      <td>PERPNH</td>\n",
       "      <td>Australia</td>\n",
       "      <td>0</td>\n",
       "      <td>1</td>\n",
       "      <td>0</td>\n",
       "      <td>5.62</td>\n",
       "      <td>0</td>\n",
       "    </tr>\n",
       "  </tbody>\n",
       "</table>\n",
       "<p>50000 rows × 14 columns</p>\n",
       "</div>"
      ],
      "text/plain": [
       "       num_passengers sales_channel  trip_type  purchase_lead  length_of_stay  \\\n",
       "0                   2      Internet  RoundTrip            262              19   \n",
       "1                   1      Internet  RoundTrip            112              20   \n",
       "2                   2      Internet  RoundTrip            243              22   \n",
       "3                   1      Internet  RoundTrip             96              31   \n",
       "4                   2      Internet  RoundTrip             68              22   \n",
       "...               ...           ...        ...            ...             ...   \n",
       "49995               2      Internet  RoundTrip             27               6   \n",
       "49996               1      Internet  RoundTrip            111               6   \n",
       "49997               1      Internet  RoundTrip             24               6   \n",
       "49998               1      Internet  RoundTrip             15               6   \n",
       "49999               1      Internet  RoundTrip             19               6   \n",
       "\n",
       "       flight_hour flight_day   route booking_origin  wants_extra_baggage  \\\n",
       "0                7        Sat  AKLDEL    New Zealand                    1   \n",
       "1                3        Sat  AKLDEL    New Zealand                    0   \n",
       "2               17        Wed  AKLDEL          India                    1   \n",
       "3                4        Sat  AKLDEL    New Zealand                    0   \n",
       "4               15        Wed  AKLDEL          India                    1   \n",
       "...            ...        ...     ...            ...                  ...   \n",
       "49995            9        Sat  PERPNH      Australia                    1   \n",
       "49996            4        Sun  PERPNH      Australia                    0   \n",
       "49997           22        Sat  PERPNH      Australia                    0   \n",
       "49998           11        Mon  PERPNH      Australia                    1   \n",
       "49999           10        Thu  PERPNH      Australia                    0   \n",
       "\n",
       "       wants_preferred_seat  wants_in_flight_meals  flight_duration  \\\n",
       "0                         0                      0             5.52   \n",
       "1                         0                      0             5.52   \n",
       "2                         1                      0             5.52   \n",
       "3                         0                      1             5.52   \n",
       "4                         0                      1             5.52   \n",
       "...                     ...                    ...              ...   \n",
       "49995                     0                      1             5.62   \n",
       "49996                     0                      0             5.62   \n",
       "49997                     0                      1             5.62   \n",
       "49998                     0                      1             5.62   \n",
       "49999                     1                      0             5.62   \n",
       "\n",
       "       booking_complete  \n",
       "0                     0  \n",
       "1                     0  \n",
       "2                     0  \n",
       "3                     0  \n",
       "4                     0  \n",
       "...                 ...  \n",
       "49995                 0  \n",
       "49996                 0  \n",
       "49997                 0  \n",
       "49998                 0  \n",
       "49999                 0  \n",
       "\n",
       "[50000 rows x 14 columns]"
      ]
     },
     "execution_count": 6,
     "metadata": {},
     "output_type": "execute_result"
    }
   ],
   "source": [
    "df"
   ]
  },
  {
   "cell_type": "markdown",
   "id": "7d5a00d4",
   "metadata": {},
   "source": [
    "# Exploratory Data Analysis"
   ]
  },
  {
   "cell_type": "code",
   "execution_count": 7,
   "id": "a32f1181",
   "metadata": {},
   "outputs": [
    {
     "name": "stdout",
     "output_type": "stream",
     "text": [
      "<class 'pandas.core.frame.DataFrame'>\n",
      "RangeIndex: 50000 entries, 0 to 49999\n",
      "Data columns (total 14 columns):\n",
      " #   Column                 Non-Null Count  Dtype  \n",
      "---  ------                 --------------  -----  \n",
      " 0   num_passengers         50000 non-null  int64  \n",
      " 1   sales_channel          50000 non-null  object \n",
      " 2   trip_type              50000 non-null  object \n",
      " 3   purchase_lead          50000 non-null  int64  \n",
      " 4   length_of_stay         50000 non-null  int64  \n",
      " 5   flight_hour            50000 non-null  int64  \n",
      " 6   flight_day             50000 non-null  object \n",
      " 7   route                  50000 non-null  object \n",
      " 8   booking_origin         50000 non-null  object \n",
      " 9   wants_extra_baggage    50000 non-null  int64  \n",
      " 10  wants_preferred_seat   50000 non-null  int64  \n",
      " 11  wants_in_flight_meals  50000 non-null  int64  \n",
      " 12  flight_duration        50000 non-null  float64\n",
      " 13  booking_complete       50000 non-null  int64  \n",
      "dtypes: float64(1), int64(8), object(5)\n",
      "memory usage: 5.3+ MB\n"
     ]
    }
   ],
   "source": [
    "df.info()"
   ]
  },
  {
   "cell_type": "code",
   "execution_count": 8,
   "id": "f0275831",
   "metadata": {},
   "outputs": [
    {
     "data": {
      "text/plain": [
       "(50000, 14)"
      ]
     },
     "execution_count": 8,
     "metadata": {},
     "output_type": "execute_result"
    }
   ],
   "source": [
    "df.shape"
   ]
  },
  {
   "cell_type": "code",
   "execution_count": 9,
   "id": "6f5b7652",
   "metadata": {},
   "outputs": [
    {
     "data": {
      "text/plain": [
       "num_passengers           0\n",
       "sales_channel            0\n",
       "trip_type                0\n",
       "purchase_lead            0\n",
       "length_of_stay           0\n",
       "flight_hour              0\n",
       "flight_day               0\n",
       "route                    0\n",
       "booking_origin           0\n",
       "wants_extra_baggage      0\n",
       "wants_preferred_seat     0\n",
       "wants_in_flight_meals    0\n",
       "flight_duration          0\n",
       "booking_complete         0\n",
       "dtype: int64"
      ]
     },
     "execution_count": 9,
     "metadata": {},
     "output_type": "execute_result"
    }
   ],
   "source": [
    "df.isnull().sum()"
   ]
  },
  {
   "cell_type": "code",
   "execution_count": 10,
   "id": "4d13f1ea",
   "metadata": {},
   "outputs": [
    {
     "data": {
      "text/plain": [
       "booking_complete\n",
       "0    42522\n",
       "1     7478\n",
       "Name: count, dtype: int64"
      ]
     },
     "execution_count": 10,
     "metadata": {},
     "output_type": "execute_result"
    }
   ],
   "source": [
    "df.booking_complete.value_counts()"
   ]
  },
  {
   "cell_type": "markdown",
   "id": "f2a8e9af",
   "metadata": {},
   "source": [
    "# Mutual Information "
   ]
  },
  {
   "cell_type": "code",
   "execution_count": 11,
   "id": "85781d61",
   "metadata": {},
   "outputs": [],
   "source": [
    "x = df.drop('booking_complete', axis = 1)\n",
    "y = df.booking_complete"
   ]
  },
  {
   "cell_type": "code",
   "execution_count": 12,
   "id": "35b446dd",
   "metadata": {},
   "outputs": [],
   "source": [
    "#changing object dtype to int dtype\n",
    "for colname in x.select_dtypes(\"object\"):\n",
    "    x[colname],_ = x[colname].factorize()"
   ]
  },
  {
   "cell_type": "code",
   "execution_count": 13,
   "id": "e263e274",
   "metadata": {},
   "outputs": [
    {
     "data": {
      "text/plain": [
       "num_passengers             int64\n",
       "sales_channel              int64\n",
       "trip_type                  int64\n",
       "purchase_lead              int64\n",
       "length_of_stay             int64\n",
       "flight_hour                int64\n",
       "flight_day                 int64\n",
       "route                      int64\n",
       "booking_origin             int64\n",
       "wants_extra_baggage        int64\n",
       "wants_preferred_seat       int64\n",
       "wants_in_flight_meals      int64\n",
       "flight_duration          float64\n",
       "dtype: object"
      ]
     },
     "execution_count": 13,
     "metadata": {},
     "output_type": "execute_result"
    }
   ],
   "source": [
    "x.dtypes"
   ]
  },
  {
   "cell_type": "code",
   "execution_count": 14,
   "id": "40fb92de",
   "metadata": {},
   "outputs": [
    {
     "data": {
      "text/plain": [
       "route                    0.052140\n",
       "booking_origin           0.047008\n",
       "flight_duration          0.018191\n",
       "wants_extra_baggage      0.010127\n",
       "length_of_stay           0.007832\n",
       "wants_in_flight_meals    0.003711\n",
       "purchase_lead            0.003706\n",
       "sales_channel            0.003615\n",
       "wants_preferred_seat     0.003315\n",
       "num_passengers           0.003054\n",
       "flight_hour              0.003015\n",
       "flight_day               0.002650\n",
       "trip_type                0.001025\n",
       "Name: MI Scores, dtype: float64"
      ]
     },
     "execution_count": 14,
     "metadata": {},
     "output_type": "execute_result"
    }
   ],
   "source": [
    "from sklearn.feature_selection import mutual_info_classif\n",
    "\n",
    "mi_scores = mutual_info_classif(x,y)\n",
    "mi_scores= pd.Series(mi_scores, name=\"MI Scores\", index = x.columns)\n",
    "mi_scores = mi_scores.sort_values(ascending= False)\n",
    "mi_scores"
   ]
  },
  {
   "cell_type": "code",
   "execution_count": 15,
   "id": "d6930aec",
   "metadata": {},
   "outputs": [
    {
     "data": {
      "image/png": "[encoded data removed]",
      "text/plain": [
       "<Figure size 1000x600 with 1 Axes>"
      ]
     },
     "metadata": {},
     "output_type": "display_data"
    }
   ],
   "source": [
    "def plot_mi_score(scores):\n",
    "    scores = scores.sort_values(ascending = True)\n",
    "    width = np.arange(len(scores))\n",
    "    ticks = list(scores.index)\n",
    "    plt.barh(width,scores)\n",
    "    plt.yticks(width, ticks)\n",
    "    plt.title(\"Mutual Information Scores\")\n",
    "    \n",
    "plt.figure(dpi = 100, figsize = (10,6))\n",
    "plot_mi_score(mi_scores)"
   ]
  },
  {
   "cell_type": "markdown",
   "id": "6e33420c",
   "metadata": {},
   "source": [
    "# Train Test split "
   ]
  },
  {
   "cell_type": "code",
   "execution_count": 18,
   "id": "e33eb0ca",
   "metadata": {},
   "outputs": [],
   "source": [
    "from sklearn.model_selection import train_test_split"
   ]
  },
  {
   "cell_type": "code",
   "execution_count": 19,
   "id": "1ca3fe30",
   "metadata": {},
   "outputs": [],
   "source": [
    "def dataset(x,y):\n",
    "    train_full_x, val_x, train_full_y, val_y = train_test_split(x,y,test_size= 0.2, random_state= 42)\n",
    "    \n",
    "#     use the same function above for the validation set\n",
    "    train_x, test_x, train_y, test_y = train_test_split(train_full_x, train_full_y, test_size= 0.25, random_state= 42)\n",
    "    return (train_x, val_x,train_y, val_y)"
   ]
  },
  {
   "cell_type": "code",
   "execution_count": 49,
   "id": "440f5fc4",
   "metadata": {},
   "outputs": [],
   "source": [
    "from sklearn.preprocessing import MinMaxScaler\n",
    "\n",
    "def scale(x):\n",
    "    scaler = MinMaxScaler()\n",
    "    scaler.fit(x)\n",
    "    return x"
   ]
  },
  {
   "cell_type": "markdown",
   "id": "59f12bcc",
   "metadata": {},
   "source": [
    "# Model 1 : Random forest classifier with top 6 features"
   ]
  },
  {
   "cell_type": "code",
   "execution_count": 24,
   "id": "08a99a41",
   "metadata": {},
   "outputs": [],
   "source": [
    "from sklearn.metrics import roc_auc_score\n",
    "from sklearn.metrics import accuracy_score, classification_report, confusion_matrix\n",
    "from sklearn.ensemble import RandomForestClassifier"
   ]
  },
  {
   "cell_type": "code",
   "execution_count": 26,
   "id": "bae585f2",
   "metadata": {},
   "outputs": [
    {
     "name": "stdout",
     "output_type": "stream",
     "text": [
      "Accuracy :  84.15\n",
      "AUC Score:  0.5482727445755615\n",
      "              precision    recall  f1-score   support\n",
      "\n",
      "           0       0.86      0.96      0.91      8520\n",
      "           1       0.39      0.13      0.20      1480\n",
      "\n",
      "    accuracy                           0.84     10000\n",
      "   macro avg       0.63      0.55      0.55     10000\n",
      "weighted avg       0.80      0.84      0.81     10000\n",
      "\n"
     ]
    },
    {
     "data": {
      "text/plain": [
       "array([[8220,  300],\n",
       "       [1285,  195]], dtype=int64)"
      ]
     },
     "execution_count": 26,
     "metadata": {},
     "output_type": "execute_result"
    }
   ],
   "source": [
    "feature = ['route','booking_origin','flight_duration','wants_extra_baggage','wants_in_flight_meals']\n",
    "\n",
    "x= df[feature]\n",
    "\n",
    "# one hot encoding\n",
    "x= pd.get_dummies(x, columns= feature)\n",
    "x = scale(x)\n",
    "y = df.booking_complete\n",
    "\n",
    "x_train, x_val, y_train, y_val = dataset(x,y)\n",
    "\n",
    "rf_model = RandomForestClassifier(random_state=42)\n",
    "rf_model.fit(x_train, y_train)\n",
    "\n",
    "y_pred = rf_model.predict(x_val)\n",
    "\n",
    "\n",
    "print('Accuracy : ', accuracy_score(y_val,y_pred)*100)\n",
    "print(\"AUC Score: \",roc_auc_score(y_val, y_pred))\n",
    "print(classification_report(y_val, y_pred))\n",
    "confusion_matrix(y_val, y_pred)\n"
   ]
  },
  {
   "cell_type": "markdown",
   "id": "e5ff1175",
   "metadata": {},
   "source": [
    "# Model 2 : Random forest classifier with all features"
   ]
  },
  {
   "cell_type": "code",
   "execution_count": 61,
   "id": "dbc324e1",
   "metadata": {},
   "outputs": [
    {
     "name": "stdout",
     "output_type": "stream",
     "text": [
      "Accuracy :  85.22999999999999\n",
      "AUC Score:  0.546236200989722\n",
      "              precision    recall  f1-score   support\n",
      "\n",
      "           0       0.86      0.98      0.92      8520\n",
      "           1       0.50      0.11      0.18      1480\n",
      "\n",
      "    accuracy                           0.85     10000\n",
      "   macro avg       0.68      0.55      0.55     10000\n",
      "weighted avg       0.81      0.85      0.81     10000\n",
      "\n"
     ]
    },
    {
     "data": {
      "text/plain": [
       "array([[8358,  162],\n",
       "       [1315,  165]], dtype=int64)"
      ]
     },
     "execution_count": 61,
     "metadata": {},
     "output_type": "execute_result"
    }
   ],
   "source": [
    "x = df.drop('booking_complete',axis =1)\n",
    "\n",
    "#one hot encoding \n",
    "x= pd.get_dummies(x)\n",
    "x = scale(x)\n",
    "y = df.booking_complete\n",
    "\n",
    "x_train, x_val,y_train, y_val = dataset(x,y)\n",
    "\n",
    "rf_model1 = RandomForestClassifier(random_state=42)\n",
    "rf_model1.fit(x_train,y_train)\n",
    "y_pred1 = rf_model1.predict(x_val)\n",
    "\n",
    "print('Accuracy : ', accuracy_score(y_val,y_pred1)*100)\n",
    "print(\"AUC Score: \",roc_auc_score(y_val, y_pred1))\n",
    "print(classification_report(y_val, y_pred1))\n",
    "confusion_matrix(y_val, y_pred1)\n"
   ]
  },
  {
   "cell_type": "markdown",
   "id": "66a13438",
   "metadata": {},
   "source": [
    "# Model 3 : XGB classifier with top 6 features"
   ]
  },
  {
   "cell_type": "code",
   "execution_count": 34,
   "id": "00372345",
   "metadata": {},
   "outputs": [],
   "source": [
    "from xgboost import XGBClassifier"
   ]
  },
  {
   "cell_type": "code",
   "execution_count": 36,
   "id": "5b2dfb7a",
   "metadata": {},
   "outputs": [
    {
     "name": "stdout",
     "output_type": "stream",
     "text": [
      "Accuracy :  85.11999999999999\n",
      "AUC Score:  0.5062301738358077\n",
      "              precision    recall  f1-score   support\n",
      "\n",
      "           0       0.85      1.00      0.92      8520\n",
      "           1       0.43      0.02      0.03      1480\n",
      "\n",
      "    accuracy                           0.85     10000\n",
      "   macro avg       0.64      0.51      0.48     10000\n",
      "weighted avg       0.79      0.85      0.79     10000\n",
      "\n"
     ]
    },
    {
     "data": {
      "text/plain": [
       "array([[8488,   32],\n",
       "       [1456,   24]], dtype=int64)"
      ]
     },
     "execution_count": 36,
     "metadata": {},
     "output_type": "execute_result"
    }
   ],
   "source": [
    "x = df[feature]\n",
    "\n",
    "#one hot encoding\n",
    "\n",
    "x = pd.get_dummies(x, columns= feature)\n",
    "x = scale(x)\n",
    "y = df.booking_complete\n",
    "\n",
    "x_train, x_val, y_train, y_val = dataset(x,y)\n",
    "xgb_model = XGBClassifier()\n",
    "\n",
    "xgb_model.fit(x_train, y_train)\n",
    "pred_xgb = xgb_model.predict(x_val)\n",
    "\n",
    "print('Accuracy : ', accuracy_score(y_val,pred_xgb)*100)\n",
    "print(\"AUC Score: \",roc_auc_score(y_val, pred_xgb))\n",
    "print(classification_report(y_val, pred_xgb))\n",
    "confusion_matrix(y_val, pred_xgb)"
   ]
  },
  {
   "cell_type": "markdown",
   "id": "0d71946c",
   "metadata": {},
   "source": [
    "# Model 4 : XGB classifier with all features"
   ]
  },
  {
   "cell_type": "code",
   "execution_count": 60,
   "id": "c93b653b",
   "metadata": {},
   "outputs": [
    {
     "name": "stdout",
     "output_type": "stream",
     "text": [
      "Accuracy :  85.18\n",
      "AUC Score:  0.5378473543966501\n",
      "              precision    recall  f1-score   support\n",
      "\n",
      "           0       0.86      0.98      0.92      8520\n",
      "           1       0.50      0.09      0.16      1480\n",
      "\n",
      "    accuracy                           0.85     10000\n",
      "   macro avg       0.68      0.54      0.54     10000\n",
      "weighted avg       0.81      0.85      0.81     10000\n",
      "\n"
     ]
    },
    {
     "data": {
      "text/plain": [
       "array([[8382,  138],\n",
       "       [1344,  136]], dtype=int64)"
      ]
     },
     "execution_count": 60,
     "metadata": {},
     "output_type": "execute_result"
    }
   ],
   "source": [
    "x =df.drop('booking_complete', axis = 1)\n",
    "\n",
    "x =pd.get_dummies(x)\n",
    "x =scale(x)\n",
    "y =df.booking_complete\n",
    "\n",
    "x_train, x_val, y_train, y_val = dataset(x,y)\n",
    "\n",
    "xgb_model1 = XGBClassifier()\n",
    "\n",
    "xgb_model1.fit(x_train, y_train)\n",
    "pred_xgb1 = xgb_model1.predict(x_val)\n",
    "\n",
    "print('Accuracy : ', accuracy_score(y_val,pred_xgb1)*100)\n",
    "print(\"AUC Score: \",roc_auc_score(y_val, pred_xgb1))\n",
    "print(classification_report(y_val, pred_xgb1))\n",
    "confusion_matrix(y_val, pred_xgb1)\n",
    "\n"
   ]
  },
  {
   "cell_type": "markdown",
   "id": "aaaacba3",
   "metadata": {},
   "source": [
    "# Model 5 : Decision Tree classifier with top 6 features"
   ]
  },
  {
   "cell_type": "code",
   "execution_count": 40,
   "id": "4059498c",
   "metadata": {},
   "outputs": [
    {
     "name": "stdout",
     "output_type": "stream",
     "text": [
      "Accuracy :  84.31\n",
      "AUC Score:  0.5480951021443979\n",
      "              precision    recall  f1-score   support\n",
      "\n",
      "           0       0.86      0.97      0.91      8520\n",
      "           1       0.41      0.13      0.20      1480\n",
      "\n",
      "    accuracy                           0.84     10000\n",
      "   macro avg       0.64      0.55      0.55     10000\n",
      "weighted avg       0.80      0.84      0.81     10000\n",
      "\n"
     ]
    },
    {
     "data": {
      "text/plain": [
       "array([[8240,  280],\n",
       "       [1289,  191]], dtype=int64)"
      ]
     },
     "execution_count": 40,
     "metadata": {},
     "output_type": "execute_result"
    }
   ],
   "source": [
    "from sklearn.tree import DecisionTreeClassifier\n",
    "\n",
    "x = df[feature]\n",
    "\n",
    "#one hot encoding\n",
    "\n",
    "x = pd.get_dummies(x, columns= feature)\n",
    "x = scale(x)\n",
    "y = df.booking_complete\n",
    "\n",
    "x_train, x_val, y_train, y_val = dataset(x,y)\n",
    "dt_model = DecisionTreeClassifier()\n",
    "\n",
    "dt_model.fit(x_train, y_train)\n",
    "pred_dt = dt_model.predict(x_val)\n",
    "\n",
    "print('Accuracy : ', accuracy_score(y_val,pred_dt)*100)\n",
    "print(\"AUC Score: \",roc_auc_score(y_val, pred_dt))\n",
    "print(classification_report(y_val, pred_dt))\n",
    "confusion_matrix(y_val, pred_dt)"
   ]
  },
  {
   "cell_type": "markdown",
   "id": "838dba42",
   "metadata": {},
   "source": [
    "# Model 6 : Decision Tree classifier with all features"
   ]
  },
  {
   "cell_type": "code",
   "execution_count": 53,
   "id": "e3b9bb3d",
   "metadata": {},
   "outputs": [
    {
     "name": "stdout",
     "output_type": "stream",
     "text": [
      "Accuracy :  79.08\n",
      "AUC Score:  0.5378473543966501\n",
      "              precision    recall  f1-score   support\n",
      "\n",
      "           0       0.86      0.98      0.92      8520\n",
      "           1       0.50      0.09      0.16      1480\n",
      "\n",
      "    accuracy                           0.85     10000\n",
      "   macro avg       0.68      0.54      0.54     10000\n",
      "weighted avg       0.81      0.85      0.81     10000\n",
      "\n"
     ]
    },
    {
     "data": {
      "text/plain": [
       "array([[8382,  138],\n",
       "       [1344,  136]], dtype=int64)"
      ]
     },
     "execution_count": 53,
     "metadata": {},
     "output_type": "execute_result"
    }
   ],
   "source": [
    "x =df.drop('booking_complete', axis = 1)\n",
    "\n",
    "x =pd.get_dummies(x)\n",
    "x =scale(x)\n",
    "y =df.booking_complete\n",
    "\n",
    "x_train, x_val, y_train, y_val = dataset(x,y)\n",
    "\n",
    "dt_model = DecisionTreeClassifier()\n",
    "dt_model.fit(x_train, y_train)\n",
    "pred_dt = dt_model.predict(x_val)\n",
    "\n",
    "print('Accuracy : ', accuracy_score(y_val,pred_dt)*100)\n",
    "print(\"AUC Score: \",roc_auc_score(y_val, pred_xgb))\n",
    "print(classification_report(y_val, pred_xgb))\n",
    "confusion_matrix(y_val, pred_xgb)"
   ]
  },
  {
   "cell_type": "markdown",
   "id": "83995596",
   "metadata": {},
   "source": [
    "# After Stratified Sampling "
   ]
  },
  {
   "cell_type": "code",
   "execution_count": 55,
   "id": "6cf34df1",
   "metadata": {},
   "outputs": [],
   "source": [
    "def dataset_1(x,y):\n",
    "    train_full_x1, val_x1, train_full_y1, val_y1 = train_test_split(x,y,test_size= 0.2, random_state= 42, stratify=y)\n",
    "    \n",
    "#     use the same function above for the validation set\n",
    "    train_x1, test_x1, train_y1, test_y1 = train_test_split(train_full_x1, train_full_y1, test_size= 0.25, random_state= 42,stratify=y)\n",
    "    return (train_x1, val_x1,train_y1, val_y1)"
   ]
  },
  {
   "cell_type": "code",
   "execution_count": 56,
   "id": "48379fef",
   "metadata": {},
   "outputs": [
    {
     "name": "stdout",
     "output_type": "stream",
     "text": [
      "Accuracy :  84.15\n",
      "AUC Score:  0.5482727445755615\n",
      "              precision    recall  f1-score   support\n",
      "\n",
      "           0       0.86      0.96      0.91      8520\n",
      "           1       0.39      0.13      0.20      1480\n",
      "\n",
      "    accuracy                           0.84     10000\n",
      "   macro avg       0.63      0.55      0.55     10000\n",
      "weighted avg       0.80      0.84      0.81     10000\n",
      "\n"
     ]
    },
    {
     "data": {
      "text/plain": [
       "array([[8220,  300],\n",
       "       [1285,  195]], dtype=int64)"
      ]
     },
     "execution_count": 56,
     "metadata": {},
     "output_type": "execute_result"
    }
   ],
   "source": [
    "feature = ['route','booking_origin','flight_duration','wants_extra_baggage','wants_in_flight_meals']\n",
    "\n",
    "x= df[feature]\n",
    "\n",
    "# one hot encoding\n",
    "x= pd.get_dummies(x, columns= feature)\n",
    "x = scale(x)\n",
    "y = df.booking_complete\n",
    "\n",
    "x_train1, x_val1, y_train1, y_val1 = dataset(x,y)\n",
    "\n",
    "rf_model = RandomForestClassifier(random_state=42)\n",
    "rf_model.fit(x_train1, y_train1)\n",
    "\n",
    "y_pred = rf_model.predict(x_val1)\n",
    "\n",
    "\n",
    "print('Accuracy : ', accuracy_score(y_val1,y_pred)*100)\n",
    "print(\"AUC Score: \",roc_auc_score(y_val1, y_pred))\n",
    "print(classification_report(y_val1, y_pred))\n",
    "confusion_matrix(y_val1, y_pred)\n"
   ]
  },
  {
   "cell_type": "markdown",
   "id": "01532c4c",
   "metadata": {},
   "source": [
    "Finalizing random forest model with all features as final model, as it has goos accuracy and higher auc score compared to other models"
   ]
  },
  {
   "cell_type": "code",
   "execution_count": 62,
   "id": "0f59d788",
   "metadata": {},
   "outputs": [],
   "source": [
    "x= df.drop('booking_complete', axis= 1)\n",
    "x = pd.get_dummies(x)\n",
    "x = scale(x)\n",
    "\n",
    "y = df.booking_complete\n",
    "\n",
    "train_full_x , test_x, train_full_y, test_y = train_test_split(x,y,test_size= 0.2, random_state=42)\n",
    "\n",
    "# rf_model1 = RandomForestClassifier(random_state=42)\n",
    "\n",
    "rf_model1.fit(train_full_x,train_full_y)\n",
    "y_pred11 = rf_model1.predict(test_x)\n",
    "\n"
   ]
  },
  {
   "cell_type": "code",
   "execution_count": 63,
   "id": "3eaf34e1",
   "metadata": {},
   "outputs": [
    {
     "name": "stdout",
     "output_type": "stream",
     "text": [
      "Accuracy :  85.41\n",
      "AUC Score:  0.5545505012054308\n",
      "              precision    recall  f1-score   support\n",
      "\n",
      "           0       0.87      0.98      0.92      8520\n",
      "           1       0.53      0.13      0.21      1480\n",
      "\n",
      "    accuracy                           0.85     10000\n",
      "   macro avg       0.70      0.55      0.56     10000\n",
      "weighted avg       0.82      0.85      0.81     10000\n",
      "\n"
     ]
    },
    {
     "data": {
      "text/plain": [
       "array([[8350,  170],\n",
       "       [1289,  191]], dtype=int64)"
      ]
     },
     "execution_count": 63,
     "metadata": {},
     "output_type": "execute_result"
    }
   ],
   "source": [
    "print('Accuracy : ', accuracy_score(test_y,y_pred11)*100)\n",
    "print(\"AUC Score: \",roc_auc_score(test_y, y_pred11))\n",
    "print(classification_report(test_y, y_pred11))\n",
    "confusion_matrix(test_y, y_pred11)"
   ]
  },
  {
   "cell_type": "code",
   "execution_count": null,
   "id": "617da6f2",
   "metadata": {},
   "outputs": [],
   "source": []
  }
 ],
 "metadata": {
  "kernelspec": {
   "display_name": "Python 3 (ipykernel)",
   "language": "python",
   "name": "python3"
  },
  "language_info": {
   "codemirror_mode": {
    "name": "ipython",
    "version": 3
   },
   "file_extension": ".py",
   "mimetype": "text/x-python",
   "name": "python",
   "nbconvert_exporter": "python",
   "pygments_lexer": "ipython3",
   "version": "3.12.4"
  }
 },
 "nbformat": 4,
 "nbformat_minor": 5
}
